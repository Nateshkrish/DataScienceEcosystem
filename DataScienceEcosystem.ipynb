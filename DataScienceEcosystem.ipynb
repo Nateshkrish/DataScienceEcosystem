{
 "cells": [
  {
   "cell_type": "markdown",
   "id": "4f9036e0-26a5-482a-bf30-c1fb606927f7",
   "metadata": {},
   "source": [
    "# Data Science Tools and Ecosystem"
   ]
  },
  {
   "cell_type": "markdown",
   "id": "4792dc63-be9e-4f6b-b58f-b0a4ad8a26e5",
   "metadata": {},
   "source": [
    "In this notebook, Data Science Tools and Ecosystem are summarized."
   ]
  },
  {
   "cell_type": "markdown",
   "id": "c080761c-052c-4d52-b312-702abc5d9c44",
   "metadata": {},
   "source": [
    "Some of the popular languages that Data Scientists use are:"
   ]
  },
  {
   "cell_type": "markdown",
   "id": "1fb7eb38-37e7-4d36-97d0-b095f331b08c",
   "metadata": {
    "tags": []
   },
   "source": [
    "1. Python\n",
    "2. R\n",
    "3. SQL"
   ]
  },
  {
   "cell_type": "markdown",
   "id": "dbce0420-94f5-4e36-a5f1-361d34ce2a6f",
   "metadata": {},
   "source": [
    "Some of the commonly used libraries used by Data Scientists include:"
   ]
  },
  {
   "cell_type": "markdown",
   "id": "08a8f359-9284-491d-bcd1-bbc955249770",
   "metadata": {},
   "source": [
    "1. NumPy\n",
    "2. Pandas\n",
    "3. Pytorch"
   ]
  },
  {
   "cell_type": "markdown",
   "id": "75badac9-3ea8-4f4f-b71e-7c09c6b64b7d",
   "metadata": {
    "tags": []
   },
   "source": [
    "| Data Science Tools       |\n",
    "|--------------------------|\n",
    "| Jupyter Notebook         |\n",
    "| RStudio                  |\n",
    "| Apache Zeppelin          |"
   ]
  },
  {
   "cell_type": "markdown",
   "id": "655be47d-31f7-409a-b0f0-a032454f8ed5",
   "metadata": {},
   "source": [
    "### Below are a few examples of evaluating arithmetic expressions in Python"
   ]
  },
  {
   "cell_type": "code",
   "execution_count": 9,
   "id": "75e3982f-b94b-4bd5-95e7-13c2294ae551",
   "metadata": {
    "tags": []
   },
   "outputs": [
    {
     "data": {
      "text/plain": [
       "17"
      ]
     },
     "execution_count": 9,
     "metadata": {},
     "output_type": "execute_result"
    }
   ],
   "source": [
    "(3*4)+5\n",
    "#This a simple arithmetic expression to mutiply then add integers"
   ]
  },
  {
   "cell_type": "code",
   "execution_count": 10,
   "id": "d3296bc1-0164-4bfa-ae6c-91082b223699",
   "metadata": {
    "tags": []
   },
   "outputs": [
    {
     "data": {
      "text/plain": [
       "3.3333333333333335"
      ]
     },
     "execution_count": 10,
     "metadata": {},
     "output_type": "execute_result"
    }
   ],
   "source": [
    "# This will convert 200 minutes to hours by dividing by 60\n",
    "hours = 200 / 60\n",
    "hours"
   ]
  },
  {
   "cell_type": "markdown",
   "id": "0b1935f6-0256-4d54-9ba4-329974aff1c1",
   "metadata": {},
   "source": [
    "**Objectives:**\n",
    "\n",
    "- List popular languages for Data Science\n",
    "- Understand the basic data structures in Python\n",
    "- Perform data analysis using pandas\n",
    "- Visualize data with matplotlib and seaborn\n",
    "- Learn the basics of machine learning with scikit-learn"
   ]
  },
  {
   "cell_type": "markdown",
   "id": "b950e3a2-fa29-4790-8271-c3f6f765a255",
   "metadata": {},
   "source": [
    "## Author\n",
    "\n",
    "NateshKrishna\n"
   ]
  },
  {
   "cell_type": "code",
   "execution_count": null,
   "id": "a73e66a3-e725-4b6c-be14-1160fd942f6b",
   "metadata": {},
   "outputs": [],
   "source": []
  }
 ],
 "metadata": {
  "kernelspec": {
   "display_name": "Python",
   "language": "python",
   "name": "conda-env-python-py"
  },
  "language_info": {
   "codemirror_mode": {
    "name": "ipython",
    "version": 3
   },
   "file_extension": ".py",
   "mimetype": "text/x-python",
   "name": "python",
   "nbconvert_exporter": "python",
   "pygments_lexer": "ipython3",
   "version": "3.7.12"
  }
 },
 "nbformat": 4,
 "nbformat_minor": 5
}
